{
 "cells": [
  {
   "cell_type": "markdown",
   "metadata": {},
   "source": [
    "# All About NumPy"
   ]
  },
  {
   "cell_type": "code",
   "execution_count": 1,
   "metadata": {},
   "outputs": [],
   "source": [
    "import numpy as np"
   ]
  },
  {
   "cell_type": "code",
   "execution_count": 2,
   "metadata": {},
   "outputs": [],
   "source": [
    "list1=[2,6,5,3,1]\n",
    "array1=np.array(list1,dtype=\"int\")"
   ]
  },
  {
   "cell_type": "code",
   "execution_count": 3,
   "metadata": {},
   "outputs": [
    {
     "name": "stdout",
     "output_type": "stream",
     "text": [
      "[2 6 5 3 1]\n",
      "<class 'numpy.ndarray'>\n",
      "5\n"
     ]
    }
   ],
   "source": [
    "print(array1)\n",
    "print(type(array1))\n",
    "print(array1[2])"
   ]
  },
  {
   "cell_type": "code",
   "execution_count": 4,
   "metadata": {},
   "outputs": [
    {
     "name": "stdout",
     "output_type": "stream",
     "text": [
      "[1 2 3 4 5 6 7]\n"
     ]
    }
   ],
   "source": [
    "array3=np.arange(1,8)\n",
    "print(array3)"
   ]
  },
  {
   "cell_type": "code",
   "execution_count": 5,
   "metadata": {},
   "outputs": [
    {
     "name": "stdout",
     "output_type": "stream",
     "text": [
      "[[11 12 13]\n",
      " [14 15 16]]\n"
     ]
    }
   ],
   "source": [
    "array4=np.arange(11,17).reshape(2,3)\n",
    "print(array4)"
   ]
  },
  {
   "cell_type": "code",
   "execution_count": 6,
   "metadata": {},
   "outputs": [
    {
     "name": "stdout",
     "output_type": "stream",
     "text": [
      "[0. 0. 0. 0. 0.]\n"
     ]
    }
   ],
   "source": [
    "array5=np.zeros(5)\n",
    "print(array5)"
   ]
  },
  {
   "cell_type": "code",
   "execution_count": 7,
   "metadata": {},
   "outputs": [
    {
     "name": "stdout",
     "output_type": "stream",
     "text": [
      "[[0. 0. 0. 0. 0.]\n",
      " [0. 0. 0. 0. 0.]\n",
      " [0. 0. 0. 0. 0.]]\n"
     ]
    }
   ],
   "source": [
    "array6=np.zeros((3,5))\n",
    "print(array6)"
   ]
  },
  {
   "cell_type": "code",
   "execution_count": 8,
   "metadata": {},
   "outputs": [
    {
     "name": "stdout",
     "output_type": "stream",
     "text": [
      "[1. 1. 1.]\n"
     ]
    }
   ],
   "source": [
    "array7=np.ones(3)\n",
    "print(array7)"
   ]
  },
  {
   "cell_type": "code",
   "execution_count": 9,
   "metadata": {},
   "outputs": [
    {
     "name": "stdout",
     "output_type": "stream",
     "text": [
      "[[10 20 30]\n",
      " [40 50 60]\n",
      " [70 80 90]]\n",
      "<class 'numpy.ndarray'>\n",
      "2\n",
      "9\n",
      "(3, 3)\n",
      "4\n",
      "int32\n"
     ]
    }
   ],
   "source": [
    "# Attributes of Array\n",
    "list2=[[10,20,30],[40,50,60],[70,80,90]]\n",
    "array2=np.array(list2)\n",
    "print(array2)\n",
    "print(type(array2))\n",
    "print(array2.ndim)\n",
    "print(array2.size)\n",
    "print(array2.shape)\n",
    "print(array2.itemsize)\n",
    "print(array2.dtype)"
   ]
  },
  {
   "cell_type": "code",
   "execution_count": 10,
   "metadata": {},
   "outputs": [
    {
     "name": "stdout",
     "output_type": "stream",
     "text": [
      "[[[ 1  2  3]\n",
      "  [ 5  6  4]]\n",
      "\n",
      " [[10 12 11]\n",
      "  [ 6  9  3]]]\n",
      "3\n",
      "(2, 2, 3)\n"
     ]
    }
   ],
   "source": [
    "array=np.array([[[1,2,3],[5,6,4]],[[10,12,11],[6,9,3]]])\n",
    "print(array)\n",
    "print(array.ndim)\n",
    "print(array.shape)"
   ]
  },
  {
   "cell_type": "code",
   "execution_count": 11,
   "metadata": {},
   "outputs": [
    {
     "name": "stdout",
     "output_type": "stream",
     "text": [
      "6\n",
      "[3 6 9 8]\n",
      "[2 6 8]\n",
      "[1 8 6]\n",
      "[1 7 8 9 6 3 2]\n",
      "[2 3 6 9 8 7 1]\n",
      "[2 6 8 1]\n"
     ]
    }
   ],
   "source": [
    "# Slicing in NumPy Arrays\n",
    "array8=np.array([2,3,6,9,8,7,1])\n",
    "print(array8[2])\n",
    "print(array8[1:5])\n",
    "print(array8[0:5:2])\n",
    "print(array8[-1:-7:-2])\n",
    "print(array8[::-1])\n",
    "print(array8[:])\n",
    "print(array8[::2])"
   ]
  },
  {
   "cell_type": "markdown",
   "metadata": {},
   "source": [
    "# Arithmetic Operations on NumPy Arrays\n"
   ]
  },
  {
   "cell_type": "markdown",
   "metadata": {},
   "source": [
    "Addition"
   ]
  },
  {
   "cell_type": "code",
   "execution_count": 12,
   "metadata": {},
   "outputs": [
    {
     "name": "stdout",
     "output_type": "stream",
     "text": [
      "[10 16]\n"
     ]
    }
   ],
   "source": [
    "x=np.array([2,6])\n",
    "y=np.array([8,10])\n",
    "\n",
    "z=x+y\n",
    "print(z)"
   ]
  },
  {
   "cell_type": "code",
   "execution_count": 13,
   "metadata": {},
   "outputs": [
    {
     "name": "stdout",
     "output_type": "stream",
     "text": [
      "[[ 7 11]\n",
      " [13 10]]\n"
     ]
    }
   ],
   "source": [
    "a=np.array([[2,3],\n",
    "           [7,1]])\n",
    "b=np.array([[5,8],\n",
    "          [6,9]])\n",
    "c=a+b\n",
    "print(c)"
   ]
  },
  {
   "cell_type": "markdown",
   "metadata": {},
   "source": [
    "Substraction"
   ]
  },
  {
   "cell_type": "code",
   "execution_count": 14,
   "metadata": {},
   "outputs": [
    {
     "name": "stdout",
     "output_type": "stream",
     "text": [
      "[[-3 -5]\n",
      " [ 1 -8]]\n"
     ]
    }
   ],
   "source": [
    "a=np.array([[2,3],\n",
    "           [7,1]])\n",
    "b=np.array([[5,8],\n",
    "          [6,9]])\n",
    "c=a-b\n",
    "print(c)"
   ]
  },
  {
   "cell_type": "markdown",
   "metadata": {},
   "source": [
    "Multiplication"
   ]
  },
  {
   "cell_type": "code",
   "execution_count": 15,
   "metadata": {},
   "outputs": [
    {
     "name": "stdout",
     "output_type": "stream",
     "text": [
      "[[10 24]\n",
      " [42  9]]\n"
     ]
    }
   ],
   "source": [
    "a=np.array([[2,3],\n",
    "           [7,1]])\n",
    "b=np.array([[5,8],\n",
    "          [6,9]])\n",
    "c=a*b\n",
    "print(c)"
   ]
  },
  {
   "cell_type": "markdown",
   "metadata": {},
   "source": [
    "Matrix Multiplication"
   ]
  },
  {
   "cell_type": "code",
   "execution_count": 16,
   "metadata": {},
   "outputs": [
    {
     "name": "stdout",
     "output_type": "stream",
     "text": [
      "[[28 43]\n",
      " [41 65]]\n"
     ]
    }
   ],
   "source": [
    "a=np.array([[2,3],\n",
    "           [7,1]])\n",
    "b=np.array([[5,8],\n",
    "          [6,9]])\n",
    "c=a@b\n",
    "print(c)"
   ]
  },
  {
   "cell_type": "markdown",
   "metadata": {},
   "source": [
    "Division"
   ]
  },
  {
   "cell_type": "code",
   "execution_count": 17,
   "metadata": {},
   "outputs": [
    {
     "name": "stdout",
     "output_type": "stream",
     "text": [
      "[[2. 3.]\n",
      " [8. 3.]]\n"
     ]
    }
   ],
   "source": [
    "a=np.array([[10,24],\n",
    "           [48,27]])\n",
    "b=np.array([[5,8],\n",
    "          [6,9]])\n",
    "c=a/b\n",
    "print(c)"
   ]
  },
  {
   "cell_type": "markdown",
   "metadata": {},
   "source": [
    "Floor Division"
   ]
  },
  {
   "cell_type": "code",
   "execution_count": 18,
   "metadata": {},
   "outputs": [
    {
     "name": "stdout",
     "output_type": "stream",
     "text": [
      "[[2 3]\n",
      " [8 3]]\n"
     ]
    }
   ],
   "source": [
    "a=np.array([[10,24],\n",
    "           [48,27]])\n",
    "b=np.array([[5,8],\n",
    "          [6,9]])\n",
    "c=a//b\n",
    "print(c)"
   ]
  },
  {
   "cell_type": "markdown",
   "metadata": {},
   "source": [
    "Exponentiation"
   ]
  },
  {
   "cell_type": "code",
   "execution_count": 19,
   "metadata": {},
   "outputs": [
    {
     "name": "stdout",
     "output_type": "stream",
     "text": [
      "[[32 27]\n",
      " [49  1]]\n"
     ]
    }
   ],
   "source": [
    "a=np.array([[2,3],\n",
    "           [7,1]])\n",
    "b=np.array([[5,3],\n",
    "          [2,9]])\n",
    "c=a**b\n",
    "print(c)"
   ]
  },
  {
   "cell_type": "markdown",
   "metadata": {},
   "source": [
    "Modulo(%)"
   ]
  },
  {
   "cell_type": "code",
   "execution_count": 20,
   "metadata": {},
   "outputs": [
    {
     "name": "stdout",
     "output_type": "stream",
     "text": [
      "[[2 0]\n",
      " [1 2]]\n"
     ]
    }
   ],
   "source": [
    "a=np.array([[2,10],\n",
    "           [7,56]])\n",
    "b=np.array([[5,5],\n",
    "          [6,9]])\n",
    "c=a%b\n",
    "print(c)"
   ]
  },
  {
   "cell_type": "markdown",
   "metadata": {},
   "source": [
    "Transpose"
   ]
  },
  {
   "cell_type": "code",
   "execution_count": 21,
   "metadata": {},
   "outputs": [
    {
     "name": "stdout",
     "output_type": "stream",
     "text": [
      "[[2 7]\n",
      " [3 1]]\n",
      "[[5 6]\n",
      " [8 9]]\n"
     ]
    }
   ],
   "source": [
    "a=np.array([[2,3],\n",
    "           [7,1]])\n",
    "b=np.array([[5,8],\n",
    "          [6,9]])\n",
    "\n",
    "print(a.transpose())\n",
    "print(b.transpose())"
   ]
  },
  {
   "cell_type": "markdown",
   "metadata": {},
   "source": [
    "# Sorting in 2D Arrays"
   ]
  },
  {
   "cell_type": "code",
   "execution_count": 26,
   "metadata": {},
   "outputs": [
    {
     "name": "stdout",
     "output_type": "stream",
     "text": [
      "[[2 3 6]\n",
      " [4 5 9]\n",
      " [1 2 7]]\n"
     ]
    }
   ],
   "source": [
    "# To Sort Row-wise  (By Default it sorts row-wise, you can also deliberately mention axis=1)\n",
    "x=np.array([[2,3,6],\n",
    "           [5,4,9],\n",
    "           [7,1,2]])\n",
    "y=np.sort(x)\n",
    "print(y)"
   ]
  },
  {
   "cell_type": "code",
   "execution_count": 27,
   "metadata": {},
   "outputs": [
    {
     "name": "stdout",
     "output_type": "stream",
     "text": [
      "[[2 1 2]\n",
      " [5 3 6]\n",
      " [7 4 9]]\n"
     ]
    }
   ],
   "source": [
    "# To Sort Column-wise\n",
    "x=np.array([[2,3,6],\n",
    "           [5,4,9],\n",
    "           [7,1,2]])\n",
    "y=np.sort(x,axis=0)\n",
    "print(y)"
   ]
  },
  {
   "cell_type": "code",
   "execution_count": 32,
   "metadata": {},
   "outputs": [
    {
     "name": "stdout",
     "output_type": "stream",
     "text": [
      "[[0 1 2]\n",
      " [1 0 2]\n",
      " [1 2 0]]\n"
     ]
    }
   ],
   "source": [
    "# argsort--->gives the Sorted Index Number\n",
    "x=np.array([[2,3,6],\n",
    "           [5,4,9],\n",
    "           [7,1,2]])\n",
    "y=np.argsort(x,axis=1)\n",
    "print(y)"
   ]
  },
  {
   "cell_type": "code",
   "execution_count": 33,
   "metadata": {},
   "outputs": [
    {
     "name": "stdout",
     "output_type": "stream",
     "text": [
      "[[0 2 2]\n",
      " [1 0 0]\n",
      " [2 1 1]]\n"
     ]
    }
   ],
   "source": [
    "# argsort--->gives the Sorted Index Number\n",
    "x=np.array([[2,3,6],\n",
    "           [5,4,9],\n",
    "           [7,1,2]])\n",
    "y=np.argsort(x,axis=0)\n",
    "print(y)"
   ]
  },
  {
   "cell_type": "code",
   "execution_count": 34,
   "metadata": {},
   "outputs": [
    {
     "name": "stdout",
     "output_type": "stream",
     "text": [
      "[0 1 2 3 6 8 9]\n"
     ]
    }
   ],
   "source": [
    "x=np.array([2,6,3,1,8,0,9])\n",
    "print(np.sort(x))"
   ]
  },
  {
   "cell_type": "code",
   "execution_count": 35,
   "metadata": {},
   "outputs": [
    {
     "name": "stdout",
     "output_type": "stream",
     "text": [
      "[5 3 0 2 1 4 6]\n"
     ]
    }
   ],
   "source": [
    "x=np.array([2,6,3,1,8,0,9])\n",
    "print(np.argsort(x))"
   ]
  },
  {
   "cell_type": "markdown",
   "metadata": {},
   "source": [
    "# Statistical Operations On NumPy Arrays"
   ]
  },
  {
   "cell_type": "code",
   "execution_count": 51,
   "metadata": {},
   "outputs": [
    {
     "name": "stdout",
     "output_type": "stream",
     "text": [
      "[5 3 6 9 8 2 0 7]\n",
      "5.0\n",
      "9\n",
      "0\n",
      "40\n",
      "5.5\n",
      "0\n",
      "8.5\n",
      "2.9154759474226504\n"
     ]
    }
   ],
   "source": [
    "x=np.array([5,3,6,9,8,2,0,7])\n",
    "print(x)\n",
    "print(np.mean(x))\n",
    "print(np.max(x))\n",
    "print(np.min(x))\n",
    "print(np.sum(x))\n",
    "print(np.median(x))\n",
    "y=np.prod(x)   \n",
    "print(y)\n",
    "print(np.var(x))\n",
    "print(np.std(x))"
   ]
  },
  {
   "cell_type": "code",
   "execution_count": null,
   "metadata": {},
   "outputs": [],
   "source": []
  }
 ],
 "metadata": {
  "kernelspec": {
   "display_name": "Python 3 (ipykernel)",
   "language": "python",
   "name": "python3"
  },
  "language_info": {
   "codemirror_mode": {
    "name": "ipython",
    "version": 3
   },
   "file_extension": ".py",
   "mimetype": "text/x-python",
   "name": "python",
   "nbconvert_exporter": "python",
   "pygments_lexer": "ipython3",
   "version": "3.10.9"
  }
 },
 "nbformat": 4,
 "nbformat_minor": 2
}
